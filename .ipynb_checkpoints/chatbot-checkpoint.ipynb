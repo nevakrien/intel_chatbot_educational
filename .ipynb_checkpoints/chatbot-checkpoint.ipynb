{
 "cells": [
  {
   "cell_type": "markdown",
   "id": "50d1242f-d40c-49d5-ad17-570c9076d1cb",
   "metadata": {},
   "source": [
    "# setup"
   ]
  },
  {
   "cell_type": "code",
   "execution_count": 1,
   "id": "766db817-e698-44cf-b849-5cd352e51057",
   "metadata": {},
   "outputs": [
    {
     "name": "stdout",
     "output_type": "stream",
     "text": [
      "INFO:nncf:NNCF initialized successfully. Supported frameworks detected: torch, onnx, openvino\n"
     ]
    },
    {
     "name": "stderr",
     "output_type": "stream",
     "text": [
      "No CUDA runtime is found, using CUDA_HOME='/usr/local/cuda'\n"
     ]
    }
   ],
   "source": [
    "#core deep learning framework\n",
    "from transformers import  AutoTokenizer\n",
    "from optimum.intel import OVModelForCausalLM #,OVModelForFeatureExtraction\n",
    "\n",
    "#prompt managme\n",
    "from faiss import IndexFlatL2\n",
    "from collections import deque\n",
    "import numpy as np\n",
    "\n",
    "#utillty\n",
    "from os.path import join"
   ]
  },
  {
   "cell_type": "code",
   "execution_count": 2,
   "id": "3ed08022-4db9-4ea1-b963-a950bdf4112d",
   "metadata": {},
   "outputs": [
    {
     "name": "stderr",
     "output_type": "stream",
     "text": [
      "Compiling the model to CPU ...\n",
      "Setting OpenVINO CACHE_DIR to quantized_model/INT_8/model_cache\n"
     ]
    }
   ],
   "source": [
    "tokenizer = AutoTokenizer.from_pretrained(join(\"quantized_model\",\"tokenizer\"))\n",
    "model = OVModelForCausalLM.from_pretrained(join(\"quantized_model\",\"INT_8\"))#,export=True)"
   ]
  },
  {
   "cell_type": "code",
   "execution_count": 3,
   "id": "ca835326-6eef-4c04-a1f4-dd0ac934b866",
   "metadata": {},
   "outputs": [],
   "source": [
    "tokenizer.pad_token = tokenizer.eos_token"
   ]
  },
  {
   "cell_type": "markdown",
   "id": "0de5616f-c77d-46a9-a86b-9b56048fbfff",
   "metadata": {},
   "source": [
    "# utils"
   ]
  },
  {
   "cell_type": "code",
   "execution_count": 4,
   "id": "faa631d8-dd82-411c-a2c2-123ee2b96059",
   "metadata": {},
   "outputs": [],
   "source": [
    "def shape_dict(d):\n",
    "    return {k:np.array(v).shape for k,v in d.items()}"
   ]
  },
  {
   "cell_type": "markdown",
   "id": "78bb2b95-ffe7-4e1e-ad11-b773c966f2b0",
   "metadata": {},
   "source": [
    "# database"
   ]
  },
  {
   "cell_type": "code",
   "execution_count": 27,
   "id": "ee9255e3-e20f-4c27-aa01-52e7d745b83c",
   "metadata": {},
   "outputs": [],
   "source": [
    "# List of product descriptions for the SereniTea chatbot\n",
    "product_descriptions = [\n",
    "    \"\"\"Matcha is a premium green tea powder from Japan. Once prepared, it becomes a vibrant green beverage with a creamy mouthfeel. Its unique flavor is rich and grassy with undertones of umami. Traditionally used in tea ceremonies, Matcha is also a popular ingredient in modern culinary dishes and beverages.\"\"\",\n",
    "    \n",
    "    \"\"\"Chamomile tea is a herbal infusion made from dried chamomile flowers and is renowned for its mild and soothing flavor that hints at a light apple sweetness. Widely consumed for its calming effects and its ability to improve sleep quality, Chamomile tea is a nighttime favorite.\"\"\",\n",
    "    \n",
    "    \"\"\"Oolong tea, a traditional Chinese tea, is made from leaves of the same plant that gives us green and black tea. Its oxidation process is stopped somewhere between the standards for green and black tea, giving it a complexity of flavor and aroma that can range from bright and floral to rich and savory.\"\"\",\n",
    "    \n",
    "    \"\"\"Black tea is known for its strong flavors and is the most oxidized of all tea types. It can range in flavor from sweet and malty to robust and smoky. Regular consumption of black tea has been linked to a variety of health benefits, including improved cholesterol levels and better gut health and immunity.\"\"\"\n",
    "    # Additional product descriptions would be appended to the list\n",
    "]\n"
   ]
  },
  {
   "cell_type": "markdown",
   "id": "83682259-3fb5-4d51-a9c0-f8dbf2c15e37",
   "metadata": {},
   "source": [
    "## embedding"
   ]
  },
  {
   "cell_type": "code",
   "execution_count": 37,
   "id": "29c68fac-d95c-4548-9a8c-12fc9eebfa31",
   "metadata": {},
   "outputs": [
    {
     "data": {
      "text/plain": [
       "{'input_ids': (4, 79), 'attention_mask': (4, 79)}"
      ]
     },
     "execution_count": 37,
     "metadata": {},
     "output_type": "execute_result"
    }
   ],
   "source": [
    "batch_dict = tokenizer(product_descriptions, max_length=512, padding=True, truncation=True, return_tensors='pt')\n",
    "shape_dict(batch_dict)"
   ]
  },
  {
   "cell_type": "code",
   "execution_count": 38,
   "id": "35cbd33d-84e7-498a-9e3b-645f039ceb9b",
   "metadata": {},
   "outputs": [
    {
     "data": {
      "text/plain": [
       "{'logits': (4, 79, 32000), 'past_key_values': (32, 2, 4, 32, 79, 128)}"
      ]
     },
     "execution_count": 38,
     "metadata": {},
     "output_type": "execute_result"
    }
   ],
   "source": [
    "outputs=model(**batch_dict)\n",
    "shape_dict(outputs)"
   ]
  },
  {
   "cell_type": "code",
   "execution_count": 39,
   "id": "29416de6-bcfb-45d7-a14c-af038313cc60",
   "metadata": {},
   "outputs": [
    {
     "name": "stdout",
     "output_type": "stream",
     "text": [
      "(4, 79, 4096)\n"
     ]
    }
   ],
   "source": [
    "def get_last_key(outputs):\n",
    "    #geting the last key\n",
    "    emb=np.array(outputs['past_key_values'])[-1][0] #shape = (Batch, 32, Time, 128)\n",
    "    #combining over attention heads\n",
    "    emb=emb.swapaxes(1,2) #shape = (Batch, Time, 32, 128) \n",
    "    return emb.reshape(emb.shape[:2]+(-1,)) #shape = (Batch, Time, 4096)\n",
    "\n",
    "emb=get_last_key(outputs)\n",
    "print(emb.shape)"
   ]
  },
  {
   "cell_type": "code",
   "execution_count": 40,
   "id": "e817e55f-ffac-4d88-a32b-677d0086e11f",
   "metadata": {},
   "outputs": [
    {
     "data": {
      "text/plain": [
       "(4, 4096)"
      ]
     },
     "execution_count": 40,
     "metadata": {},
     "output_type": "execute_result"
    }
   ],
   "source": [
    "def average_pool(array, attention_mask):\n",
    "    return array[attention_mask].sum()/attention_mask.sum()\n",
    "\n",
    "pool=average_pool(emb,batch_dict['attention_mask'])\n",
    "pool.shape"
   ]
  },
  {
   "cell_type": "code",
   "execution_count": 41,
   "id": "4652232f-5c57-413e-a225-c3cf85d549e5",
   "metadata": {},
   "outputs": [
    {
     "data": {
      "text/plain": [
       "(4, 4096)"
      ]
     },
     "execution_count": 41,
     "metadata": {},
     "output_type": "execute_result"
    }
   ],
   "source": [
    "def get_embedding(outputs,inputs):\n",
    "    key=get_last_key(outputs)\n",
    "    return average_pool(key,inputs['attention_mask'])\n",
    "\n",
    "embeddings=get_embedding(outputs,batch_dict)\n",
    "embeddings.shape"
   ]
  },
  {
   "cell_type": "markdown",
   "id": "fda1928f-0e2a-4acf-9cf3-ab671adc07e2",
   "metadata": {},
   "source": [
    "## faiss"
   ]
  },
  {
   "cell_type": "code",
   "execution_count": 42,
   "id": "e1345c03-d09f-4a19-b3b3-768d437eacab",
   "metadata": {},
   "outputs": [
    {
     "data": {
      "text/plain": [
       "<faiss.swigfaiss_avx2.IndexFlatL2; proxy of <Swig Object of type 'faiss::IndexFlatL2 *' at 0x7feacba5d960> >"
      ]
     },
     "execution_count": 42,
     "metadata": {},
     "output_type": "execute_result"
    }
   ],
   "source": [
    "database_index=IndexFlatL2(embeddings.shape[-1])\n",
    "database_index.add(embeddings)\n",
    "database_index"
   ]
  },
  {
   "cell_type": "code",
   "execution_count": 43,
   "id": "2c206004-e3d8-4561-8a71-5c2898ce9454",
   "metadata": {},
   "outputs": [
    {
     "data": {
      "text/plain": [
       "(array([[4435.5903]], dtype=float32), array([[2]]))"
      ]
     },
     "execution_count": 43,
     "metadata": {},
     "output_type": "execute_result"
    }
   ],
   "source": [
    "#testing \n",
    "inputs=tokenizer(['I am having stomach issues what tea is best for me?'],return_tensors='pt')\n",
    "outputs=model(**inputs)\n",
    "emb=get_embedding(outputs,inputs)\n",
    "#print(emb.shape)\n",
    "\n",
    "ans=database_index.search(emb,1)\n",
    "ans"
   ]
  },
  {
   "cell_type": "code",
   "execution_count": 44,
   "id": "61d0af69-553b-4105-92bf-21ca849799a1",
   "metadata": {},
   "outputs": [
    {
     "data": {
      "text/plain": [
       "'Chamomile tea is a herbal infusion made from dried chamomile flowers and is renowned for its mild and soothing flavor that hints at a light apple sweetness. Widely consumed for its calming effects and its ability to improve sleep quality, Chamomile tea is a nighttime favorite.'"
      ]
     },
     "execution_count": 44,
     "metadata": {},
     "output_type": "execute_result"
    }
   ],
   "source": [
    "product_descriptions[ans[1][0][0]]"
   ]
  },
  {
   "cell_type": "code",
   "execution_count": null,
   "id": "9afaa3c9-130b-4393-b927-c3bc3a0488a2",
   "metadata": {},
   "outputs": [],
   "source": []
  },
  {
   "cell_type": "code",
   "execution_count": null,
   "id": "d66ee585-3654-4fc1-a84f-624bf8b72355",
   "metadata": {},
   "outputs": [],
   "source": []
  }
 ],
 "metadata": {
  "kernelspec": {
   "display_name": "Python 3 (ipykernel)",
   "language": "python",
   "name": "python3"
  },
  "language_info": {
   "codemirror_mode": {
    "name": "ipython",
    "version": 3
   },
   "file_extension": ".py",
   "mimetype": "text/x-python",
   "name": "python",
   "nbconvert_exporter": "python",
   "pygments_lexer": "ipython3",
   "version": "3.8.18"
  }
 },
 "nbformat": 4,
 "nbformat_minor": 5
}
